{
 "cells": [
  {
   "cell_type": "code",
   "execution_count": 1,
   "metadata": {},
   "outputs": [
    {
     "name": "stderr",
     "output_type": "stream",
     "text": [
      "c:\\Users\\shres\\anaconda3\\envs\\rag_case_study\\lib\\site-packages\\tqdm\\auto.py:21: TqdmWarning: IProgress not found. Please update jupyter and ipywidgets. See https://ipywidgets.readthedocs.io/en/stable/user_install.html\n",
      "  from .autonotebook import tqdm as notebook_tqdm\n",
      "c:\\Users\\shres\\anaconda3\\envs\\rag_case_study\\lib\\site-packages\\huggingface_hub\\file_download.py:140: UserWarning: `huggingface_hub` cache-system uses symlinks by default to efficiently store duplicated files but your machine does not support them in C:\\Users\\shres\\.cache\\huggingface\\hub\\models--shresht8--modernBERT_text_similarity_finetune. Caching files will still work but in a degraded version that might require more space on your disk. This warning can be disabled by setting the `HF_HUB_DISABLE_SYMLINKS_WARNING` environment variable. For more details, see https://huggingface.co/docs/huggingface_hub/how-to-cache#limitations.\n",
      "To support symlinks on Windows, you either need to activate Developer Mode or to run Python as an administrator. In order to activate developer mode, see this article: https://docs.microsoft.com/en-us/windows/apps/get-started/enable-your-device-for-development\n",
      "  warnings.warn(message)\n",
      "PyLate model loaded successfully.\n"
     ]
    }
   ],
   "source": [
    "from pylate import indexes, models, retrieve\n",
    "\n",
    "model = models.ColBERT(\n",
    "    model_name_or_path=\"shresht8/modernBERT_text_similarity_finetune\",\n",
    ")\n",
    "\n",
    "index = indexes.Voyager(\n",
    "    index_folder=\"pylate-index\",\n",
    "    index_name=\"index\",\n",
    "    override=True,\n",
    ")\n",
    "\n",
    "retriever = retrieve.ColBERT(index=index)"
   ]
  },
  {
   "cell_type": "code",
   "execution_count": 2,
   "metadata": {},
   "outputs": [
    {
     "name": "stderr",
     "output_type": "stream",
     "text": [
      "Encoding documents (bs=32): 100%|██████████| 1/1 [00:00<00:00,  1.45it/s]\n",
      "Adding documents to the index (bs=2000): 100%|██████████| 1/1 [00:00<00:00, 498.61it/s]\n"
     ]
    },
    {
     "data": {
      "text/plain": [
       "<pylate.indexes.voyager.Voyager at 0x2a71ce9bd00>"
      ]
     },
     "execution_count": 2,
     "metadata": {},
     "output_type": "execute_result"
    }
   ],
   "source": [
    "documents_ids = [\"1\", \"2\", \"3\"]\n",
    "\n",
    "documents = [\n",
    "    \"I have had a very good day\", \"Mazda 3 is a reliable car\", \"Since chunk size much smaller compared to the maximum context length of the tokenizer there is scope for increase in chunk length to optimise it for retrieval\"\n",
    "]\n",
    "\n",
    "# Encode the documents\n",
    "documents_embeddings = model.encode(\n",
    "    documents,\n",
    "    batch_size=32,\n",
    "    is_query=False, # Encoding documents\n",
    "    show_progress_bar=True,\n",
    ")\n",
    "\n",
    "# Add the documents ids and embeddings to the Voyager index\n",
    "index.add_documents(\n",
    "    documents_ids=documents_ids,\n",
    "    documents_embeddings=documents_embeddings,\n",
    ")"
   ]
  },
  {
   "cell_type": "code",
   "execution_count": 5,
   "metadata": {},
   "outputs": [
    {
     "data": {
      "text/plain": [
       "(10, 128)"
      ]
     },
     "execution_count": 5,
     "metadata": {},
     "output_type": "execute_result"
    }
   ],
   "source": [
    "documents_embeddings[0].shape"
   ]
  },
  {
   "cell_type": "code",
   "execution_count": 6,
   "metadata": {},
   "outputs": [
    {
     "name": "stderr",
     "output_type": "stream",
     "text": [
      "Encoding queries (bs=32): 100%|██████████| 1/1 [00:00<00:00,  1.92it/s]\n",
      "Retrieving documents (bs=50): 100%|██████████| 1/1 [00:01<00:00,  1.71s/it]"
     ]
    },
    {
     "name": "stdout",
     "output_type": "stream",
     "text": [
      "[[{'id': '1', 'score': 30.47486114501953}, {'id': '3', 'score': 30.46074676513672}, {'id': '2', 'score': 30.432344436645508}], [{'id': '1', 'score': 30.613506317138672}, {'id': '3', 'score': 30.583486557006836}, {'id': '2', 'score': 30.569419860839844}], [{'id': '3', 'score': 30.844350814819336}, {'id': '1', 'score': 30.753984451293945}, {'id': '2', 'score': 30.70146369934082}]]\n"
     ]
    },
    {
     "name": "stderr",
     "output_type": "stream",
     "text": [
      "\n"
     ]
    }
   ],
   "source": [
    "queries_embeddings = model.encode(\n",
    "    [\"she smirked at the camera while she was driving\", \"She flies all the time\", \"what the the best way to divide docs to create embeddings\"],\n",
    "    batch_size=32,\n",
    "    is_query=True, # Encoding queries\n",
    "    show_progress_bar=True,\n",
    ")\n",
    "\n",
    "scores = retriever.retrieve(\n",
    "    queries_embeddings=queries_embeddings, \n",
    "    k=10,\n",
    ")\n",
    "\n",
    "print(scores)"
   ]
  },
  {
   "cell_type": "code",
   "execution_count": null,
   "metadata": {},
   "outputs": [],
   "source": []
  }
 ],
 "metadata": {
  "kernelspec": {
   "display_name": "rag_case_study",
   "language": "python",
   "name": "python3"
  },
  "language_info": {
   "codemirror_mode": {
    "name": "ipython",
    "version": 3
   },
   "file_extension": ".py",
   "mimetype": "text/x-python",
   "name": "python",
   "nbconvert_exporter": "python",
   "pygments_lexer": "ipython3",
   "version": "3.10.15"
  }
 },
 "nbformat": 4,
 "nbformat_minor": 2
}
