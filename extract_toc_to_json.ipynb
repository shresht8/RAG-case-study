{
 "cells": [
  {
   "cell_type": "code",
   "execution_count": null,
   "metadata": {},
   "outputs": [],
   "source": [
    "# Use the environment variable if the user doesn't provide Project ID.\n",
    "import os\n",
    "\n",
    "import vertexai\n",
    "from vertexai.preview.generative_models import (\n",
    "    FunctionDeclaration,\n",
    "    GenerativeModel,\n",
    "    Tool,\n",
    "    ToolConfig,\n",
    "    Part,\n",
    "    GenerationConfig,\n",
    ")\n",
    "from google import genai\n",
    "from google.genai.types import GenerateContentConfig, Part\n",
    "PROJECT_ID = \"104916006626\"  # @param {type: \"string\", placeholder: \"[your-project-id]\" isTemplate: true}\n",
    "if not PROJECT_ID or PROJECT_ID == \"xyz\":\n",
    "    PROJECT_ID = str(os.environ.get(\"GOOGLE_CLOUD_PROJECT\"))\n",
    "\n",
    "LOCATION = os.environ.get(\"GOOGLE_CLOUD_REGION\", \"australia-southeast1\")\n",
    "\n",
    "vertexai.init(project=\"104916006626\", location=LOCATION)\n",
    "\n",
    "client = genai.Client(vertexai=True, project=PROJECT_ID, location=LOCATION)"
   ]
  },
  {
   "cell_type": "code",
   "execution_count": null,
   "metadata": {},
   "outputs": [],
   "source": [
    "import os\n",
    "from google.oauth2 import service_account\n",
    "\n",
    "# Path to your service account key file\n",
    "key_path = \"C:\\\\Users\\\\shres\\\\Projects\\\\RAG-case-study\\keys\\\\keyproject-401005-6e1cdcbb5996.json\"\n",
    "\n",
    "# Create credentials using the service account key file\n",
    "credentials = service_account.Credentials.from_service_account_file(\n",
    "    key_path\n",
    ")\n",
    "\n",
    "# Set the credentials for the current environment\n",
    "os.environ[\"GOOGLE_APPLICATION_CREDENTIALS\"] = key_path\n",
    "# auth_request = transport.requests.Request()\n",
    "# credentials.refresh(auth_request)"
   ]
  },
  {
   "cell_type": "code",
   "execution_count": null,
   "metadata": {},
   "outputs": [],
   "source": [
    "from pydantic import BaseModel, Field\n",
    "\n",
    "PDF_MIME_TYPE = \"application/pdf\"\n",
    "JSON_MIME_TYPE = \"application/json\"\n",
    "ENUM_MIME_TYPE = \"text/x.enum\""
   ]
  },
  {
   "cell_type": "code",
   "execution_count": null,
   "metadata": {},
   "outputs": [],
   "source": [
    "from typing import List, Optional\n",
    "\n",
    "class Section(BaseModel):\n",
    "    title: str = Field(description=\"The title of the section\")\n",
    "    page_number: int = Field(description=\"The page number of the section\")\n",
    "    section_number: str = Field(description=\"The section number of the section\")\n",
    "\n",
    "class SubDivision(BaseModel):\n",
    "    title: str = Field(description=\"The title of the sub-division\")\n",
    "    sections: List[Section] | None = Field(description=\"The sections of the sub-division\")\n",
    "\n",
    "class Division(BaseModel):\n",
    "    title: str = Field(description=\"The title of the division\")\n",
    "    sub_divisions: List[SubDivision] | None = Field(description=\"The sub-divisions of the division\")\n",
    "    sections: List[Section] | None = Field(description=\"The sections of the division\")\n",
    "\n",
    "class Part(BaseModel):\n",
    "    title: str = Field(description=\"The title of the part\")\n",
    "    divisions: List[Division] | None = Field(description=\"The divisions of the part\")\n",
    "    sections: List[Section] | None = Field(description=\"The sections of the part\")\n",
    "\n",
    "class TableOfContents(BaseModel):\n",
    "    parts: List[Part] = Field(description=\"The parts of the table of contents\")\n",
    "\n",
    "\n"
   ]
  },
  {
   "cell_type": "code",
   "execution_count": null,
   "metadata": {},
   "outputs": [],
   "source": [
    "MODEL_ID = \"gemini-1.5-pro-002\" \n",
    "# Load file bytes\n",
    "with open(\".\\\\processed_docs\\\\Privacy_Act_AU\\\\Privacy_Act_AU.pdf\", \"rb\") as f:\n",
    "    file_bytes = f.read()\n",
    "\n",
    "# Send to Gemini API\n",
    "response = client.models.generate_content(\n",
    "    model=MODEL_ID,\n",
    "    contents=[\n",
    "        \"The following document is an invoice.\",\n",
    "        Part.from_bytes(data=file_bytes, mime_type=PDF_MIME_TYPE),\n",
    "    ],\n",
    "    config=GenerateContentConfig(\n",
    "        system_instruction=entity_extraction_system_instruction,\n",
    "        temperature=0,\n",
    "        response_schema=Invoice,\n",
    "        response_mime_type=JSON_MIME_TYPE,\n",
    "    ),\n",
    ")"
   ]
  },
  {
   "cell_type": "code",
   "execution_count": null,
   "metadata": {},
   "outputs": [],
   "source": [
    "\n",
    "def generate_questions(context, num_questions=10):\n",
    "    \"\"\"\n",
    "    Generate a set of questions and answers from a given context.\n",
    "\n",
    "    Args:\n",
    "    context: The context to generate questions from.\n",
    "    num_questions: The number of questions to generate.\n",
    "\n",
    "    Returns:\n",
    "    A list of questions and answers.\n",
    "    \"\"\"\n",
    "    model = GenerativeModel(\"gemini-1.5-pro-002\")\n",
    "\n",
    "    response = model.generate_content(\n",
    "    system_prompt_QA_eval_bot.format(chunk_set=context, num_questions=num_questions),\n",
    "    generation_config=GenerationConfig(\n",
    "        response_mime_type=\"application/json\", response_schema=response_schema\n",
    "    ),\n",
    "    )\n",
    "    return response.text\n"
   ]
  }
 ],
 "metadata": {
  "kernelspec": {
   "display_name": "rag_case_study",
   "language": "python",
   "name": "python3"
  },
  "language_info": {
   "name": "python",
   "version": "3.10.15"
  }
 },
 "nbformat": 4,
 "nbformat_minor": 2
}
